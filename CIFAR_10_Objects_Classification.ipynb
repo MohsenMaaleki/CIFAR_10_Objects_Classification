{
  "nbformat": 4,
  "nbformat_minor": 0,
  "metadata": {
    "colab": {
      "provenance": [],
      "authorship_tag": "ABX9TyOIAKyXv7kgRm1XhvR03nIw",
      "include_colab_link": true
    },
    "kernelspec": {
      "name": "python3",
      "display_name": "Python 3"
    },
    "language_info": {
      "name": "python"
    },
    "accelerator": "GPU",
    "gpuClass": "standard",
    "widgets": {
      "application/vnd.jupyter.widget-state+json": {
        "28bc27fca43d4e3e88f5c34b5a6aecb5": {
          "model_module": "@jupyter-widgets/controls",
          "model_name": "HBoxModel",
          "model_module_version": "1.5.0",
          "state": {
            "_dom_classes": [],
            "_model_module": "@jupyter-widgets/controls",
            "_model_module_version": "1.5.0",
            "_model_name": "HBoxModel",
            "_view_count": null,
            "_view_module": "@jupyter-widgets/controls",
            "_view_module_version": "1.5.0",
            "_view_name": "HBoxView",
            "box_style": "",
            "children": [
              "IPY_MODEL_7cfd331736744dc89aa1db96db67c026",
              "IPY_MODEL_12e5ff6162e347c68aed9d92b969d53f",
              "IPY_MODEL_712fe9d01a624194bbfe37eec95d9b56"
            ],
            "layout": "IPY_MODEL_69dbe6d0e31747fa9dac75e0ed630a27"
          }
        },
        "7cfd331736744dc89aa1db96db67c026": {
          "model_module": "@jupyter-widgets/controls",
          "model_name": "HTMLModel",
          "model_module_version": "1.5.0",
          "state": {
            "_dom_classes": [],
            "_model_module": "@jupyter-widgets/controls",
            "_model_module_version": "1.5.0",
            "_model_name": "HTMLModel",
            "_view_count": null,
            "_view_module": "@jupyter-widgets/controls",
            "_view_module_version": "1.5.0",
            "_view_name": "HTMLView",
            "description": "",
            "description_tooltip": null,
            "layout": "IPY_MODEL_d17b3078e9f04d77a019a9ee0e0d1ac9",
            "placeholder": "​",
            "style": "IPY_MODEL_eedfe60ae15f4f2981e517d44dd9e711",
            "value": "100%"
          }
        },
        "12e5ff6162e347c68aed9d92b969d53f": {
          "model_module": "@jupyter-widgets/controls",
          "model_name": "FloatProgressModel",
          "model_module_version": "1.5.0",
          "state": {
            "_dom_classes": [],
            "_model_module": "@jupyter-widgets/controls",
            "_model_module_version": "1.5.0",
            "_model_name": "FloatProgressModel",
            "_view_count": null,
            "_view_module": "@jupyter-widgets/controls",
            "_view_module_version": "1.5.0",
            "_view_name": "ProgressView",
            "bar_style": "success",
            "description": "",
            "description_tooltip": null,
            "layout": "IPY_MODEL_89f5ed5645724fa7a6ad5cfbb3c31dcf",
            "max": 170498071,
            "min": 0,
            "orientation": "horizontal",
            "style": "IPY_MODEL_bd2280ff8b1f4f8f8411b956bde16886",
            "value": 170498071
          }
        },
        "712fe9d01a624194bbfe37eec95d9b56": {
          "model_module": "@jupyter-widgets/controls",
          "model_name": "HTMLModel",
          "model_module_version": "1.5.0",
          "state": {
            "_dom_classes": [],
            "_model_module": "@jupyter-widgets/controls",
            "_model_module_version": "1.5.0",
            "_model_name": "HTMLModel",
            "_view_count": null,
            "_view_module": "@jupyter-widgets/controls",
            "_view_module_version": "1.5.0",
            "_view_name": "HTMLView",
            "description": "",
            "description_tooltip": null,
            "layout": "IPY_MODEL_873e4e66f54042a89abdfa51e9b2a613",
            "placeholder": "​",
            "style": "IPY_MODEL_ea69cf3d31ca4c998823efa01020ff43",
            "value": " 170498071/170498071 [00:05&lt;00:00, 33548884.05it/s]"
          }
        },
        "69dbe6d0e31747fa9dac75e0ed630a27": {
          "model_module": "@jupyter-widgets/base",
          "model_name": "LayoutModel",
          "model_module_version": "1.2.0",
          "state": {
            "_model_module": "@jupyter-widgets/base",
            "_model_module_version": "1.2.0",
            "_model_name": "LayoutModel",
            "_view_count": null,
            "_view_module": "@jupyter-widgets/base",
            "_view_module_version": "1.2.0",
            "_view_name": "LayoutView",
            "align_content": null,
            "align_items": null,
            "align_self": null,
            "border": null,
            "bottom": null,
            "display": null,
            "flex": null,
            "flex_flow": null,
            "grid_area": null,
            "grid_auto_columns": null,
            "grid_auto_flow": null,
            "grid_auto_rows": null,
            "grid_column": null,
            "grid_gap": null,
            "grid_row": null,
            "grid_template_areas": null,
            "grid_template_columns": null,
            "grid_template_rows": null,
            "height": null,
            "justify_content": null,
            "justify_items": null,
            "left": null,
            "margin": null,
            "max_height": null,
            "max_width": null,
            "min_height": null,
            "min_width": null,
            "object_fit": null,
            "object_position": null,
            "order": null,
            "overflow": null,
            "overflow_x": null,
            "overflow_y": null,
            "padding": null,
            "right": null,
            "top": null,
            "visibility": null,
            "width": null
          }
        },
        "d17b3078e9f04d77a019a9ee0e0d1ac9": {
          "model_module": "@jupyter-widgets/base",
          "model_name": "LayoutModel",
          "model_module_version": "1.2.0",
          "state": {
            "_model_module": "@jupyter-widgets/base",
            "_model_module_version": "1.2.0",
            "_model_name": "LayoutModel",
            "_view_count": null,
            "_view_module": "@jupyter-widgets/base",
            "_view_module_version": "1.2.0",
            "_view_name": "LayoutView",
            "align_content": null,
            "align_items": null,
            "align_self": null,
            "border": null,
            "bottom": null,
            "display": null,
            "flex": null,
            "flex_flow": null,
            "grid_area": null,
            "grid_auto_columns": null,
            "grid_auto_flow": null,
            "grid_auto_rows": null,
            "grid_column": null,
            "grid_gap": null,
            "grid_row": null,
            "grid_template_areas": null,
            "grid_template_columns": null,
            "grid_template_rows": null,
            "height": null,
            "justify_content": null,
            "justify_items": null,
            "left": null,
            "margin": null,
            "max_height": null,
            "max_width": null,
            "min_height": null,
            "min_width": null,
            "object_fit": null,
            "object_position": null,
            "order": null,
            "overflow": null,
            "overflow_x": null,
            "overflow_y": null,
            "padding": null,
            "right": null,
            "top": null,
            "visibility": null,
            "width": null
          }
        },
        "eedfe60ae15f4f2981e517d44dd9e711": {
          "model_module": "@jupyter-widgets/controls",
          "model_name": "DescriptionStyleModel",
          "model_module_version": "1.5.0",
          "state": {
            "_model_module": "@jupyter-widgets/controls",
            "_model_module_version": "1.5.0",
            "_model_name": "DescriptionStyleModel",
            "_view_count": null,
            "_view_module": "@jupyter-widgets/base",
            "_view_module_version": "1.2.0",
            "_view_name": "StyleView",
            "description_width": ""
          }
        },
        "89f5ed5645724fa7a6ad5cfbb3c31dcf": {
          "model_module": "@jupyter-widgets/base",
          "model_name": "LayoutModel",
          "model_module_version": "1.2.0",
          "state": {
            "_model_module": "@jupyter-widgets/base",
            "_model_module_version": "1.2.0",
            "_model_name": "LayoutModel",
            "_view_count": null,
            "_view_module": "@jupyter-widgets/base",
            "_view_module_version": "1.2.0",
            "_view_name": "LayoutView",
            "align_content": null,
            "align_items": null,
            "align_self": null,
            "border": null,
            "bottom": null,
            "display": null,
            "flex": null,
            "flex_flow": null,
            "grid_area": null,
            "grid_auto_columns": null,
            "grid_auto_flow": null,
            "grid_auto_rows": null,
            "grid_column": null,
            "grid_gap": null,
            "grid_row": null,
            "grid_template_areas": null,
            "grid_template_columns": null,
            "grid_template_rows": null,
            "height": null,
            "justify_content": null,
            "justify_items": null,
            "left": null,
            "margin": null,
            "max_height": null,
            "max_width": null,
            "min_height": null,
            "min_width": null,
            "object_fit": null,
            "object_position": null,
            "order": null,
            "overflow": null,
            "overflow_x": null,
            "overflow_y": null,
            "padding": null,
            "right": null,
            "top": null,
            "visibility": null,
            "width": null
          }
        },
        "bd2280ff8b1f4f8f8411b956bde16886": {
          "model_module": "@jupyter-widgets/controls",
          "model_name": "ProgressStyleModel",
          "model_module_version": "1.5.0",
          "state": {
            "_model_module": "@jupyter-widgets/controls",
            "_model_module_version": "1.5.0",
            "_model_name": "ProgressStyleModel",
            "_view_count": null,
            "_view_module": "@jupyter-widgets/base",
            "_view_module_version": "1.2.0",
            "_view_name": "StyleView",
            "bar_color": null,
            "description_width": ""
          }
        },
        "873e4e66f54042a89abdfa51e9b2a613": {
          "model_module": "@jupyter-widgets/base",
          "model_name": "LayoutModel",
          "model_module_version": "1.2.0",
          "state": {
            "_model_module": "@jupyter-widgets/base",
            "_model_module_version": "1.2.0",
            "_model_name": "LayoutModel",
            "_view_count": null,
            "_view_module": "@jupyter-widgets/base",
            "_view_module_version": "1.2.0",
            "_view_name": "LayoutView",
            "align_content": null,
            "align_items": null,
            "align_self": null,
            "border": null,
            "bottom": null,
            "display": null,
            "flex": null,
            "flex_flow": null,
            "grid_area": null,
            "grid_auto_columns": null,
            "grid_auto_flow": null,
            "grid_auto_rows": null,
            "grid_column": null,
            "grid_gap": null,
            "grid_row": null,
            "grid_template_areas": null,
            "grid_template_columns": null,
            "grid_template_rows": null,
            "height": null,
            "justify_content": null,
            "justify_items": null,
            "left": null,
            "margin": null,
            "max_height": null,
            "max_width": null,
            "min_height": null,
            "min_width": null,
            "object_fit": null,
            "object_position": null,
            "order": null,
            "overflow": null,
            "overflow_x": null,
            "overflow_y": null,
            "padding": null,
            "right": null,
            "top": null,
            "visibility": null,
            "width": null
          }
        },
        "ea69cf3d31ca4c998823efa01020ff43": {
          "model_module": "@jupyter-widgets/controls",
          "model_name": "DescriptionStyleModel",
          "model_module_version": "1.5.0",
          "state": {
            "_model_module": "@jupyter-widgets/controls",
            "_model_module_version": "1.5.0",
            "_model_name": "DescriptionStyleModel",
            "_view_count": null,
            "_view_module": "@jupyter-widgets/base",
            "_view_module_version": "1.2.0",
            "_view_name": "StyleView",
            "description_width": ""
          }
        }
      }
    }
  },
  "cells": [
    {
      "cell_type": "markdown",
      "metadata": {
        "id": "view-in-github",
        "colab_type": "text"
      },
      "source": [
        "<a href=\"https://colab.research.google.com/github/MohsenMaaleki/CIFAR_10_Objects_Classification/blob/main/CIFAR_10_Objects_Classification.ipynb\" target=\"_parent\"><img src=\"https://colab.research.google.com/assets/colab-badge.svg\" alt=\"Open In Colab\"/></a>"
      ]
    },
    {
      "cell_type": "code",
      "source": [
        "import torch\n",
        "import torchvision\n",
        "import torchvision.transforms as transforms\n",
        "import torch.nn as nn\n",
        "import torchvision.models as models\n",
        "import torch.optim as optim\n",
        "\n",
        "\n",
        "\n",
        "import numpy as np\n",
        "import itertools\n",
        "import seaborn as sns\n",
        "from sklearn.metrics import confusion_matrix\n",
        "\n",
        "import matplotlib.pyplot as plt\n",
        "import numpy as np \n",
        "import pandas as pd "
      ],
      "metadata": {
        "id": "jLwp2XoOT81H"
      },
      "execution_count": 2,
      "outputs": []
    },
    {
      "cell_type": "code",
      "source": [
        "# Load the pre-trained ResNet18 model\n",
        "model = torchvision.models.resnet18(pretrained=True)\n",
        "\n",
        "# Freeze all layers in the feature extractor\n",
        "for param in model.parameters():\n",
        "    param.requires_grad = False\n",
        "\n",
        "# Replace the last layer with a fully connected layer for 10 classes\n",
        "model.fc = torch.nn.Sequential(\n",
        "    torch.nn.Linear(512, 512),\n",
        "    torch.nn.ReLU(),\n",
        "    torch.nn.Linear(512, 10)\n",
        ")\n",
        "\n",
        "# Define the loss function and optimizer\n",
        "criterion = torch.nn.CrossEntropyLoss()\n",
        "optimizer = torch.optim.SGD(model.fc.parameters(), lr=0.001, momentum=0.9)"
      ],
      "metadata": {
        "id": "-YJdKMiaW2A3",
        "colab": {
          "base_uri": "https://localhost:8080/"
        },
        "outputId": "788c2ba4-acca-4cac-a749-e1528d56e5de"
      },
      "execution_count": 13,
      "outputs": [
        {
          "output_type": "stream",
          "name": "stderr",
          "text": [
            "/usr/local/lib/python3.8/dist-packages/torchvision/models/_utils.py:208: UserWarning: The parameter 'pretrained' is deprecated since 0.13 and may be removed in the future, please use 'weights' instead.\n",
            "  warnings.warn(\n",
            "/usr/local/lib/python3.8/dist-packages/torchvision/models/_utils.py:223: UserWarning: Arguments other than a weight enum or `None` for 'weights' are deprecated since 0.13 and may be removed in the future. The current behavior is equivalent to passing `weights=ResNet18_Weights.IMAGENET1K_V1`. You can also use `weights=ResNet18_Weights.DEFAULT` to get the most up-to-date weights.\n",
            "  warnings.warn(msg)\n"
          ]
        }
      ]
    },
    {
      "cell_type": "code",
      "source": [
        "# Load the CIFAR-10 dataset and perform data augmentation\n",
        "transform = transforms.Compose([\n",
        "    transforms.RandomHorizontalFlip(),\n",
        "    transforms.RandomCrop(32, padding=4),\n",
        "    transforms.ToTensor(),\n",
        "    transforms.Normalize((0.5, 0.5, 0.5), (0.5, 0.5, 0.5))\n",
        "])\n",
        "\n",
        "trainset = torchvision.datasets.CIFAR10(root='./data', train=True, download=True, transform=transform)\n",
        "#trainloader = torch.utils.data.DataLoader(trainset, batch_size=128, shuffle=True, num_workers=2)\n",
        "\n",
        "testset = torchvision.datasets.CIFAR10(root='./data', train=False, download=True, transform=transform)\n",
        "#testloader = torch.utils.data.DataLoader(testset, batch_size=128, shuffle=False, num_workers=2)"
      ],
      "metadata": {
        "colab": {
          "base_uri": "https://localhost:8080/",
          "height": 102,
          "referenced_widgets": [
            "28bc27fca43d4e3e88f5c34b5a6aecb5",
            "7cfd331736744dc89aa1db96db67c026",
            "12e5ff6162e347c68aed9d92b969d53f",
            "712fe9d01a624194bbfe37eec95d9b56",
            "69dbe6d0e31747fa9dac75e0ed630a27",
            "d17b3078e9f04d77a019a9ee0e0d1ac9",
            "eedfe60ae15f4f2981e517d44dd9e711",
            "89f5ed5645724fa7a6ad5cfbb3c31dcf",
            "bd2280ff8b1f4f8f8411b956bde16886",
            "873e4e66f54042a89abdfa51e9b2a613",
            "ea69cf3d31ca4c998823efa01020ff43"
          ]
        },
        "id": "KzhZHrTDbRRT",
        "outputId": "b35c3441-7788-47fd-c6c9-45bfc89151bb"
      },
      "execution_count": null,
      "outputs": [
        {
          "output_type": "stream",
          "name": "stdout",
          "text": [
            "Downloading https://www.cs.toronto.edu/~kriz/cifar-10-python.tar.gz to ./data/cifar-10-python.tar.gz\n"
          ]
        },
        {
          "output_type": "display_data",
          "data": {
            "text/plain": [
              "  0%|          | 0/170498071 [00:00<?, ?it/s]"
            ],
            "application/vnd.jupyter.widget-view+json": {
              "version_major": 2,
              "version_minor": 0,
              "model_id": "28bc27fca43d4e3e88f5c34b5a6aecb5"
            }
          },
          "metadata": {}
        },
        {
          "output_type": "stream",
          "name": "stdout",
          "text": [
            "Extracting ./data/cifar-10-python.tar.gz to ./data\n",
            "Files already downloaded and verified\n"
          ]
        }
      ]
    },
    {
      "cell_type": "code",
      "source": [
        "batch_sizes = [32, 64, 128, 256]\n",
        "loss_values = {batch_size: [] for batch_size in batch_sizes}  # Store the loss values for each batch size\n",
        "\n",
        "\n",
        "for batch_size in batch_sizes:\n",
        "    # Create a dataloader with the desired batch size\n",
        "    trainloader = torch.utils.data.DataLoader(trainset, batch_size=batch_size, shuffle=True, num_workers=2)\n",
        "\n",
        "    # Train the model on the CIFAR-10 dataset for 30 epochs\n",
        "    for epoch in range(2):  # Loop through 10 epochs\n",
        "\n",
        "        running_loss = 0.0\n",
        "        for i, data in enumerate(trainloader, 0):  # Loop through the data in the training set\n",
        "            inputs, labels = data  # Get the inputs and labels from the data\n",
        "\n",
        "            optimizer.zero_grad()  # Zero the gradient buffers\n",
        "\n",
        "            outputs = model(inputs)  # Get the model outputs\n",
        "            loss = criterion(outputs, labels)  # Calculate the loss\n",
        "            loss.backward()  # Perform backpropagation\n",
        "            optimizer.step()  # Update the parameters of the model\n",
        "\n",
        "            running_loss += loss.item()  # Add up the loss for each iteration\n",
        "\n",
        "        avg_loss = running_loss / len(trainloader)  # Calculate the average loss for each epoch\n",
        "        loss_values[batch_size].append(avg_loss)  # Store the average loss value for this epoch and batch size\n",
        "        print('[Batch size: %d, Epoch %d] loss: %.3f' % (batch_size, epoch + 1, avg_loss))  # Print the average loss for each epoch\n"
      ],
      "metadata": {
        "colab": {
          "base_uri": "https://localhost:8080/"
        },
        "id": "_LycxMnXbWFD",
        "outputId": "7966dd1e-10c1-4542-a88b-a45c3e3e5a76"
      },
      "execution_count": null,
      "outputs": [
        {
          "output_type": "stream",
          "name": "stdout",
          "text": [
            "[Batch size: 32, Epoch 1] loss: 1.850\n",
            "[Batch size: 32, Epoch 2] loss: 1.756\n",
            "[Batch size: 64, Epoch 1] loss: 1.695\n",
            "[Batch size: 64, Epoch 2] loss: 1.686\n",
            "[Batch size: 128, Epoch 1] loss: 1.664\n",
            "[Batch size: 128, Epoch 2] loss: 1.653\n",
            "[Batch size: 256, Epoch 1] loss: 1.643\n",
            "[Batch size: 256, Epoch 2] loss: 1.645\n"
          ]
        }
      ]
    },
    {
      "cell_type": "code",
      "source": [
        "# Plot the loss values for each batch size and epoch\n",
        "for batch_size, values in loss_values.items():\n",
        "    plt.plot(range(1, 3), values, label=str(batch_size))\n",
        "plt.xlabel('Epoch')\n",
        "plt.ylabel('Loss')\n",
        "plt.title('Loss vs Epoch for Different Batch Sizes')\n",
        "plt.legend()\n",
        "plt.show()"
      ],
      "metadata": {
        "colab": {
          "base_uri": "https://localhost:8080/",
          "height": 295
        },
        "id": "e6cBw5P1Gpp9",
        "outputId": "02ce6a1c-cee8-46e5-fb14-c4765cda29e6"
      },
      "execution_count": null,
      "outputs": [
        {
          "output_type": "display_data",
          "data": {
            "text/plain": [
              "<Figure size 432x288 with 1 Axes>"
            ],
            "image/png": "[encoded data removed]"
          },
          "metadata": {
            "needs_background": "light"
          }
        }
      ]
    },
    {
      "cell_type": "code",
      "source": [
        "accuracies = []\n",
        "for batch_size in batch_sizes:\n",
        "    # Evaluate the model on the CIFAR-10 test set for a specific batch size\n",
        "    correct = 0  # Keep track of the number of correctly classified samples\n",
        "    total = 0  # Keep track of the total number of samples evaluated\n",
        "    testloader = torch.utils.data.DataLoader(testset, batch_size=batch_size, shuffle=False, num_workers=2)\n",
        "    with torch.no_grad():  # Don't keep track of gradients during evaluation\n",
        "        for data in testloader:\n",
        "            images, labels = data\n",
        "            outputs = model(images)  # Get the model outputs for a batch of test data\n",
        "            _, predicted = torch.max(outputs.data, 1)  # Get the class with the highest predicted probability\n",
        "            total += labels.size(0)  # Increment the number of samples evaluated\n",
        "            correct += (predicted == labels).sum().item()  # Increment the number of correctly classified samples\n",
        "\n",
        "    accuracy = 100 * correct / total  # Calculate the accuracy\n",
        "    print('[Batch size: %d] Accuracy of the network on the 10000 test images: %.2f %%' % (batch_size, accuracy))  # Print the accuracy for the current batch size\n",
        "    accuracies.append(accuracy)\n"
      ],
      "metadata": {
        "colab": {
          "base_uri": "https://localhost:8080/"
        },
        "id": "RhT8-ErCidvC",
        "outputId": "d3704456-9368-4ab4-e8ed-bdf35d6d8e67"
      },
      "execution_count": null,
      "outputs": [
        {
          "output_type": "stream",
          "name": "stdout",
          "text": [
            "[Batch size: 32] Accuracy of the network on the 10000 test images: 40.23 %\n",
            "[Batch size: 64] Accuracy of the network on the 10000 test images: 42.47 %\n",
            "[Batch size: 128] Accuracy of the network on the 10000 test images: 42.69 %\n",
            "[Batch size: 256] Accuracy of the network on the 10000 test images: 42.32 %\n"
          ]
        }
      ]
    },
    {
      "cell_type": "code",
      "source": [
        "plt.bar(batch_sizes, accuracies)\n",
        "plt.xlabel('Batch Size')\n",
        "plt.ylabel('Accuracy')\n",
        "plt.title('Accuracy vs. Batch Size')\n",
        "plt.show()"
      ],
      "metadata": {
        "colab": {
          "base_uri": "https://localhost:8080/",
          "height": 295
        },
        "id": "oMQJlhK7HzLq",
        "outputId": "237b281c-794d-48c7-a2bc-b7a04b6e83f8"
      },
      "execution_count": null,
      "outputs": [
        {
          "output_type": "display_data",
          "data": {
            "text/plain": [
              "<Figure size 432x288 with 1 Axes>"
            ],
            "image/png": "[encoded data removed]"
          },
          "metadata": {
            "needs_background": "light"
          }
        }
      ]
    },
    {
      "cell_type": "markdown",
      "source": [
        "#Different Hyperparameters :\n",
        "  1-Learning rate: 0.01, Batch size: 64, Optimizer: SGD, Epochs: 10, Activation function: ReLU"
      ],
      "metadata": {
        "id": "YbQX-7OJMjwb"
      }
    },
    {
      "cell_type": "code",
      "source": [
        "# Load the pre-trained ResNet18 model\n",
        "model = torchvision.models.resnet18(pretrained=True)\n",
        "\n",
        "# Freeze all layers in the feature extractor\n",
        "for param in model.parameters():\n",
        "    param.requires_grad = False\n",
        "\n",
        "# Replace the last layer with a fully connected layer for 10 classes\n",
        "model.fc = torch.nn.Sequential(\n",
        "    torch.nn.Linear(512, 512),\n",
        "    torch.nn.ReLU(),\n",
        "    torch.nn.Linear(512, 10)\n",
        ")\n",
        "\n",
        "# Define the loss function\n",
        "criterion = nn.CrossEntropyLoss()\n",
        "\n",
        "# Set the optimizer to SGD with a learning rate of 0.01\n",
        "optimizer = optim.SGD(model.parameters(), lr=0.01)\n",
        "\n",
        "\n",
        "# Load the CIFAR-10 dataset and perform data augmentation\n",
        "transform = transforms.Compose([\n",
        "    transforms.RandomHorizontalFlip(),\n",
        "    transforms.RandomCrop(32, padding=4),\n",
        "    transforms.ToTensor(),\n",
        "    transforms.Normalize((0.5, 0.5, 0.5), (0.5, 0.5, 0.5))\n",
        "])\n",
        "\n",
        "# Load the training set\n",
        "trainset = torchvision.datasets.CIFAR10(root='./data', train=True, download=True, transform=transform)\n",
        "\n",
        "# Create a DataLoader for the training set\n",
        "trainloader = torch.utils.data.DataLoader(trainset, batch_size=64, shuffle=True, num_workers=2)\n",
        "\n",
        "# Load the test set\n",
        "testset = torchvision.datasets.CIFAR10(root='./data', train=False, download=True, transform=transform)\n",
        "\n",
        "# Create a DataLoader for the test set\n",
        "testloader = torch.utils.data.DataLoader(testset, batch_size=64, shuffle=False, num_workers=2)\n",
        "\n",
        "\n",
        "\n",
        "\n",
        "acc1 = []\n",
        "#epochs1 = []\n",
        "\n",
        "# Train the model\n",
        "for epoch in range(2):  # loop over the dataset multiple times\n",
        "    running_loss = 0.0\n",
        "    for i, data in enumerate(trainloader, 0):\n",
        "        # get the inputs; data is a list of [inputs, labels]\n",
        "        inputs, labels = data\n",
        "\n",
        "        # zero the parameter gradients\n",
        "        optimizer.zero_grad()\n",
        "\n",
        "        # forward + backward + optimize\n",
        "        outputs = model(inputs)        \n",
        "        loss = criterion(outputs, labels)\n",
        "        loss.backward()\n",
        "        optimizer.step()\n",
        "\n",
        "        # print statistics\n",
        "        running_loss += loss.item()\n",
        "\n",
        "    print('Epoch [{}/2], Loss: {:.4f}'.format(epoch + 1, running_loss / len(trainloader)))\n",
        "    epochs1 = epoch + 1\n",
        "\n",
        "\n",
        "\n",
        "print('Finished Training')\n",
        "\n",
        "\n",
        "# Evaluate the model on the test set\n",
        "  \n",
        "with torch.no_grad():\n",
        "    correct = 0\n",
        "    total = 0\n",
        "    all_predictions = []\n",
        "    all_targets = []\n",
        "    for data, target in testloader:\n",
        "        output = model(data)\n",
        "        _, predicted = torch.max(output.data, 1)\n",
        "        total += target.size(0)\n",
        "        correct += (predicted == target).sum().item()\n",
        "        all_predictions.extend(predicted.tolist())\n",
        "        all_targets.extend(target.tolist())\n",
        "\n",
        "    accuracy = 100 * correct / total\n",
        "    print('Accuracy of the network on the test set: {:.2f}%'.format(accuracy))\n",
        "    acc1.append(accuracy)\n",
        "    \n",
        "    # Calculate the confusion matrix\n",
        "    cm = confusion_matrix(all_targets, all_predictions)\n",
        "    #print('Confusion matrix:')\n",
        "    #print(cm)\n",
        "\n",
        "\n",
        "\n",
        "sns.heatmap(cm, annot=True, fmt=\"d\")\n",
        "plt.xlabel(\"Prediction\")\n",
        "plt.ylabel(\"True Label\")\n",
        "plt.show()"
      ],
      "metadata": {
        "colab": {
          "base_uri": "https://localhost:8080/",
          "height": 676
        },
        "id": "6SRSUHsEOPqA",
        "outputId": "d32a7f07-0886-4b58-dd87-b9a22935cb22"
      },
      "execution_count": 4,
      "outputs": [
        {
          "output_type": "stream",
          "name": "stderr",
          "text": [
            "/usr/local/lib/python3.8/dist-packages/torchvision/models/_utils.py:208: UserWarning: The parameter 'pretrained' is deprecated since 0.13 and may be removed in the future, please use 'weights' instead.\n",
            "  warnings.warn(\n",
            "/usr/local/lib/python3.8/dist-packages/torchvision/models/_utils.py:223: UserWarning: Arguments other than a weight enum or `None` for 'weights' are deprecated since 0.13 and may be removed in the future. The current behavior is equivalent to passing `weights=ResNet18_Weights.IMAGENET1K_V1`. You can also use `weights=ResNet18_Weights.DEFAULT` to get the most up-to-date weights.\n",
            "  warnings.warn(msg)\n"
          ]
        },
        {
          "output_type": "stream",
          "name": "stdout",
          "text": [
            "Files already downloaded and verified\n",
            "Files already downloaded and verified\n",
            "Epoch [1/2], Loss: 1.9119\n",
            "Epoch [2/2], Loss: 1.7390\n",
            "Finished Training\n",
            "Accuracy of the network on the test set: 36.23%\n",
            "Confusion matrix:\n",
            "[[802  34  10   5  10  14   2  28  55  40]\n",
            " [216 450   8  18   7  40  12  40  42 167]\n",
            " [356  70 182  28 120  80  51  59  18  36]\n",
            " [223 105  47 160  56 147  58  87  34  83]\n",
            " [198  39  58  32 350  56  74 108  37  48]\n",
            " [149  96  29  63  83 340  24 112  21  83]\n",
            " [162  49  53  56 142  74 341  56  15  52]\n",
            " [212  64  27  29  79  71  29 370   9 110]\n",
            " [523  81   9  15  12  18   1  20 245  76]\n",
            " [256 185   6  11  12  37   9  45  56 383]]\n"
          ]
        },
        {
          "output_type": "display_data",
          "data": {
            "text/plain": [
              "<Figure size 432x288 with 2 Axes>"
            ],
            "image/png": "[encoded data removed]"
          },
          "metadata": {
            "needs_background": "light"
          }
        }
      ]
    },
    {
      "cell_type": "markdown",
      "source": [
        "# Different Hyperparameters : \n",
        "2-Learning rate: 0.1, Batch size: 128, Optimizer: Adam, Epochs: 20, Activation function: Tanh"
      ],
      "metadata": {
        "id": "uSpJ8ck2Tq4p"
      }
    },
    {
      "cell_type": "code",
      "source": [
        "# Load the pre-trained ResNet18 model\n",
        "model = torchvision.models.resnet18(pretrained=True)\n",
        "\n",
        "# Freeze all layers in the feature extractor\n",
        "for param in model.parameters():\n",
        "    param.requires_grad = False\n",
        "\n",
        "# Replace the last layer with a fully connected layer for 10 classes\n",
        "model.fc = torch.nn.Sequential(\n",
        "    torch.nn.Linear(512, 512),\n",
        "    torch.nn.Tanh(),\n",
        "    torch.nn.Linear(512, 10)\n",
        ")\n",
        "\n",
        "# Define the loss function\n",
        "criterion = nn.CrossEntropyLoss()\n",
        "\n",
        "# Set the optimizer to SGD with a learning rate of 0.01\n",
        "optimizer = optim.Adam(model.parameters(), lr=0.1)\n",
        "\n",
        "\n",
        "# Load the CIFAR-10 dataset and perform data augmentation\n",
        "transform = transforms.Compose([\n",
        "    transforms.RandomHorizontalFlip(),\n",
        "    transforms.RandomCrop(32, padding=4),\n",
        "    transforms.ToTensor(),\n",
        "    transforms.Normalize((0.5, 0.5, 0.5), (0.5, 0.5, 0.5))\n",
        "])\n",
        "\n",
        "# Load the training set\n",
        "trainset = torchvision.datasets.CIFAR10(root='./data', train=True, download=True, transform=transform)\n",
        "\n",
        "# Create a DataLoader for the training set\n",
        "trainloader = torch.utils.data.DataLoader(trainset, batch_size=128, shuffle=True, num_workers=2)\n",
        "\n",
        "# Load the test set\n",
        "testset = torchvision.datasets.CIFAR10(root='./data', train=False, download=True, transform=transform)\n",
        "\n",
        "# Create a DataLoader for the test set\n",
        "testloader = torch.utils.data.DataLoader(testset, batch_size=128, shuffle=False, num_workers=2)\n",
        "\n",
        "\n",
        "acc2 = []\n",
        "#epochs2 = []\n",
        "\n",
        "\n",
        "# Train the model\n",
        "for epoch in range(2):  # loop over the dataset multiple times\n",
        "    running_loss = 0.0\n",
        "    for i, data in enumerate(trainloader, 0):\n",
        "        # get the inputs; data is a list of [inputs, labels]\n",
        "        inputs, labels = data\n",
        "\n",
        "        # zero the parameter gradients\n",
        "        optimizer.zero_grad()\n",
        "\n",
        "        # forward + backward + optimize\n",
        "        outputs = model(inputs)        \n",
        "        loss = criterion(outputs, labels)\n",
        "        loss.backward()\n",
        "        optimizer.step()\n",
        "\n",
        "        # print statistics\n",
        "        running_loss += loss.item()\n",
        "\n",
        "    print('Epoch [{}/2], Loss: {:.4f}'.format(epoch + 1, running_loss / len(trainloader)))\n",
        "   \n",
        "    epochs2 = epoch + 1\n",
        "\n",
        "\n",
        "\n",
        "print('Finished Training')\n",
        "\n",
        "\n",
        "# Evaluate the model on the test set\n",
        "with torch.no_grad():\n",
        "    correct = 0\n",
        "    total = 0\n",
        "    for data, target in testloader:\n",
        "        output = model(data)\n",
        "        _, predicted = torch.max(output.data, 1)\n",
        "        total += target.size(0)\n",
        "        correct += (predicted == target).sum().item()\n",
        "\n",
        "    accuracy = 100 * correct / total\n",
        "    print('Accuracy of the network on the test set: {:.2f}%'.format(accuracy))\n",
        "    acc2 = []"
      ],
      "metadata": {
        "colab": {
          "base_uri": "https://localhost:8080/"
        },
        "id": "0s7KPJTpatXw",
        "outputId": "b075a453-3d90-4902-fe77-3ab8ece8494c"
      },
      "execution_count": 16,
      "outputs": [
        {
          "output_type": "stream",
          "name": "stdout",
          "text": [
            "Files already downloaded and verified\n",
            "Files already downloaded and verified\n",
            "Epoch [1/2], Loss: 20.6200\n",
            "Epoch [2/2], Loss: 13.6148\n",
            "Finished Training\n",
            "Accuracy of the network on the test set: 19.50%\n"
          ]
        }
      ]
    },
    {
      "cell_type": "markdown",
      "source": [
        "#Different Hyperparameters:\n",
        "3-Learning rate: 0.001, Batch size: 256, Optimizer: Adagrad, Epochs: 30, Activation function: Sigmoid"
      ],
      "metadata": {
        "id": "usuTu2UDc6Cz"
      }
    },
    {
      "cell_type": "code",
      "source": [
        "# Load the pre-trained ResNet18 model\n",
        "model = torchvision.models.resnet18(pretrained=True)\n",
        "\n",
        "# Freeze all layers in the feature extractor\n",
        "for param in model.parameters():\n",
        "    param.requires_grad = False\n",
        "\n",
        "# Replace the last layer with a fully connected layer for 10 classes\n",
        "model.fc = torch.nn.Sequential(\n",
        "    torch.nn.Linear(512, 512),\n",
        "    torch.nn.Sigmoid(),\n",
        "    torch.nn.Linear(512, 10)\n",
        ")\n",
        "\n",
        "# Define the loss function\n",
        "criterion = nn.CrossEntropyLoss()\n",
        "\n",
        "# Set the optimizer to SGD with a learning rate of 0.01\n",
        "optimizer = optim.Adagrad(model.parameters(), lr=0.001)\n",
        "\n",
        "\n",
        "# Load the CIFAR-10 dataset and perform data augmentation\n",
        "transform = transforms.Compose([\n",
        "    transforms.RandomHorizontalFlip(),\n",
        "    transforms.RandomCrop(32, padding=4),\n",
        "    transforms.ToTensor(),\n",
        "    transforms.Normalize((0.5, 0.5, 0.5), (0.5, 0.5, 0.5))\n",
        "])\n",
        "\n",
        "# Load the training set\n",
        "trainset = torchvision.datasets.CIFAR10(root='./data', train=True, download=True, transform=transform)\n",
        "\n",
        "# Create a DataLoader for the training set\n",
        "trainloader = torch.utils.data.DataLoader(trainset, batch_size=256, shuffle=True, num_workers=2)\n",
        "\n",
        "# Load the test set\n",
        "testset = torchvision.datasets.CIFAR10(root='./data', train=False, download=True, transform=transform)\n",
        "\n",
        "# Create a DataLoader for the test set\n",
        "testloader = torch.utils.data.DataLoader(testset, batch_size=256, shuffle=False, num_workers=2)\n",
        "\n",
        "\n",
        "\n",
        "acc3 = []\n",
        "#epochs3 = []\n",
        "\n",
        "# Train the model\n",
        "for epoch in range(2):  # loop over the dataset multiple times\n",
        "    running_loss = 0.0\n",
        "    for i, data in enumerate(trainloader, 0):\n",
        "        # get the inputs; data is a list of [inputs, labels]\n",
        "        inputs, labels = data\n",
        "\n",
        "        # zero the parameter gradients\n",
        "        optimizer.zero_grad()\n",
        "\n",
        "        # forward + backward + optimize\n",
        "        outputs = model(inputs)        \n",
        "        loss = criterion(outputs, labels)\n",
        "        loss.backward()\n",
        "        optimizer.step()\n",
        "\n",
        "        # print statistics\n",
        "        running_loss += loss.item()\n",
        "\n",
        "    print('Epoch [{}/2], Loss: {:.4f}'.format(epoch + 1, running_loss / len(trainloader)))\n",
        "   \n",
        "    epochs3 = epoch + 1\n",
        "\n",
        "\n",
        "\n",
        "\n",
        "print('Finished Training')\n",
        "\n",
        "\n",
        "# Evaluate the model on the test set\n",
        "with torch.no_grad():\n",
        "    correct = 0\n",
        "    total = 0\n",
        "    for data, target in testloader:\n",
        "        output = model(data)\n",
        "        _, predicted = torch.max(output.data, 1)\n",
        "        total += target.size(0)\n",
        "        correct += (predicted == target).sum().item()\n",
        "\n",
        "    accuracy = 100 * correct / total\n",
        "    print('Accuracy of the network on the test set: {:.2f}%'.format(accuracy))\n",
        "    acc3 = []"
      ],
      "metadata": {
        "colab": {
          "base_uri": "https://localhost:8080/"
        },
        "id": "U7RoExtYc-Sq",
        "outputId": "40c81e1a-f7d2-467b-edaf-59dbba43aa7d"
      },
      "execution_count": 17,
      "outputs": [
        {
          "output_type": "stream",
          "name": "stdout",
          "text": [
            "Epoch [1/2], Loss: 2.0138\n",
            "Epoch [2/2], Loss: 1.8549\n",
            "Finished Training\n",
            "Accuracy of the network on the test set: 36.68%\n"
          ]
        }
      ]
    },
    {
      "cell_type": "markdown",
      "source": [
        "#Different Hyperparameters : \n",
        "4-Learning rate: 0.05, Batch size: 512, Optimizer: RProp, Epochs: 40, Activation function: Leaky ReLU\n"
      ],
      "metadata": {
        "id": "U0ZyXCC6dOyH"
      }
    },
    {
      "cell_type": "code",
      "source": [
        "# Load the pre-trained ResNet18 model\n",
        "model = torchvision.models.resnet18(pretrained=True)\n",
        "\n",
        "# Freeze all layers in the feature extractor\n",
        "for param in model.parameters():\n",
        "    param.requires_grad = False\n",
        "\n",
        "# Replace the last layer with a fully connected layer for 10 classes\n",
        "model.fc = torch.nn.Sequential(\n",
        "    torch.nn.Linear(512, 512),\n",
        "    torch.nn.LeakyReLU(),\n",
        "    torch.nn.Linear(512, 10)\n",
        ")\n",
        "\n",
        "# Define the loss function\n",
        "criterion = nn.CrossEntropyLoss()\n",
        "\n",
        "# Set the optimizer to SGD with a learning rate of 0.01\n",
        "optimizer = optim.Rprop(model.parameters(), lr=0.05)\n",
        "\n",
        "\n",
        "# Load the CIFAR-10 dataset and perform data augmentation\n",
        "transform = transforms.Compose([\n",
        "    transforms.RandomHorizontalFlip(),\n",
        "    transforms.RandomCrop(32, padding=4),\n",
        "    transforms.ToTensor(),\n",
        "    transforms.Normalize((0.5, 0.5, 0.5), (0.5, 0.5, 0.5))\n",
        "])\n",
        "\n",
        "# Load the training set\n",
        "trainset = torchvision.datasets.CIFAR10(root='./data', train=True, download=True, transform=transform)\n",
        "\n",
        "# Create a DataLoader for the training set\n",
        "trainloader = torch.utils.data.DataLoader(trainset, batch_size=512, shuffle=True, num_workers=2)\n",
        "\n",
        "# Load the test set\n",
        "testset = torchvision.datasets.CIFAR10(root='./data', train=False, download=True, transform=transform)\n",
        "\n",
        "# Create a DataLoader for the test set\n",
        "testloader = torch.utils.data.DataLoader(testset, batch_size=512, shuffle=False, num_workers=2)\n",
        "\n",
        "\n",
        "acc4 = []\n",
        "#epochs4 = []\n",
        "\n",
        "\n",
        "# Train the model\n",
        "for epoch in range(2):  # loop over the dataset multiple times\n",
        "    running_loss = 0.0\n",
        "    for i, data in enumerate(trainloader, 0):\n",
        "        # get the inputs; data is a list of [inputs, labels]\n",
        "        inputs, labels = data\n",
        "\n",
        "        # zero the parameter gradients\n",
        "        optimizer.zero_grad()\n",
        "\n",
        "        # forward + backward + optimize\n",
        "        outputs = model(inputs)        \n",
        "        loss = criterion(outputs, labels)\n",
        "        loss.backward()\n",
        "        optimizer.step()\n",
        "\n",
        "        # print statistics\n",
        "        running_loss += loss.item()\n",
        "\n",
        "    print('Epoch [{}/2], Loss: {:.4f}'.format(epoch + 1, running_loss / len(trainloader)))\n",
        "    epochs4 = epoch + 1\n",
        "\n",
        "\n",
        "\n",
        "print('Finished Training')\n",
        "\n",
        "\n",
        "# Evaluate the model on the test set\n",
        "with torch.no_grad():\n",
        "    correct = 0\n",
        "    total = 0\n",
        "    for data, target in testloader:\n",
        "        output = model(data)\n",
        "        _, predicted = torch.max(output.data, 1)\n",
        "        total += target.size(0)\n",
        "        correct += (predicted == target).sum().item()\n",
        "\n",
        "    accuracy = 100 * correct / total\n",
        "    print('Accuracy of the network on the test set: {:.2f}%'.format(accuracy))\n",
        "    acc4 = []\n"
      ],
      "metadata": {
        "colab": {
          "base_uri": "https://localhost:8080/"
        },
        "id": "23n-GSx1dRsN",
        "outputId": "f2571deb-d64b-4276-b74a-92c2d7e9dad1"
      },
      "execution_count": 18,
      "outputs": [
        {
          "output_type": "stream",
          "name": "stderr",
          "text": [
            "/usr/local/lib/python3.8/dist-packages/torchvision/models/_utils.py:208: UserWarning: The parameter 'pretrained' is deprecated since 0.13 and may be removed in the future, please use 'weights' instead.\n",
            "  warnings.warn(\n",
            "/usr/local/lib/python3.8/dist-packages/torchvision/models/_utils.py:223: UserWarning: Arguments other than a weight enum or `None` for 'weights' are deprecated since 0.13 and may be removed in the future. The current behavior is equivalent to passing `weights=ResNet18_Weights.IMAGENET1K_V1`. You can also use `weights=ResNet18_Weights.DEFAULT` to get the most up-to-date weights.\n",
            "  warnings.warn(msg)\n"
          ]
        },
        {
          "output_type": "stream",
          "name": "stdout",
          "text": [
            "Files already downloaded and verified\n",
            "Files already downloaded and verified\n",
            "Epoch [1/2], Loss: 270.9387\n",
            "Epoch [2/2], Loss: 75.5700\n",
            "Finished Training\n",
            "Accuracy of the network on the test set: 27.68%\n"
          ]
        }
      ]
    },
    {
      "cell_type": "markdown",
      "source": [
        "#Different Hyperparameteers:\n",
        "5-Learning rate: 0.005, Batch size: 128, Optimizer: Adamax, Epochs: 50, Activation function: ELU"
      ],
      "metadata": {
        "id": "GtdhXfeudmGv"
      }
    },
    {
      "cell_type": "code",
      "source": [
        "# Load the pre-trained ResNet18 model\n",
        "model = torchvision.models.resnet18(pretrained=True)\n",
        "\n",
        "# Freeze all layers in the feature extractor\n",
        "for param in model.parameters():\n",
        "    param.requires_grad = False\n",
        "\n",
        "# Replace the last layer with a fully connected layer for 10 classes\n",
        "model.fc = torch.nn.Sequential(\n",
        "    torch.nn.Linear(512, 512),\n",
        "    torch.nn.ELU(),\n",
        "    torch.nn.Linear(512, 10)\n",
        ")\n",
        "\n",
        "# Define the loss function\n",
        "criterion = nn.CrossEntropyLoss()\n",
        "\n",
        "# Set the optimizer to SGD with a learning rate of 0.01\n",
        "optimizer = optim.Adamax(model.parameters(), lr=0.05)\n",
        "\n",
        "\n",
        "# Load the CIFAR-10 dataset and perform data augmentation\n",
        "transform = transforms.Compose([\n",
        "    transforms.RandomHorizontalFlip(),\n",
        "    transforms.RandomCrop(32, padding=4),\n",
        "    transforms.ToTensor(),\n",
        "    transforms.Normalize((0.5, 0.5, 0.5), (0.5, 0.5, 0.5))\n",
        "])\n",
        "\n",
        "# Load the training set\n",
        "trainset = torchvision.datasets.CIFAR10(root='./data', train=True, download=True, transform=transform)\n",
        "\n",
        "# Create a DataLoader for the training set\n",
        "trainloader = torch.utils.data.DataLoader(trainset, batch_size=128, shuffle=True, num_workers=2)\n",
        "\n",
        "# Load the test set\n",
        "testset = torchvision.datasets.CIFAR10(root='./data', train=False, download=True, transform=transform)\n",
        "\n",
        "# Create a DataLoader for the test set\n",
        "testloader = torch.utils.data.DataLoader(testset, batch_size=128, shuffle=False, num_workers=2)\n",
        "\n",
        "\n",
        "\n",
        "acc5 = []\n",
        "#epochs5 = []\n",
        "\n",
        "# Train the model\n",
        "for epoch in range(2):  # loop over the dataset multiple times\n",
        "    running_loss = 0.0\n",
        "    for i, data in enumerate(trainloader, 0):\n",
        "        # get the inputs; data is a list of [inputs, labels]\n",
        "        inputs, labels = data\n",
        "\n",
        "        # zero the parameter gradients\n",
        "        optimizer.zero_grad()\n",
        "\n",
        "        # forward + backward + optimize\n",
        "        outputs = model(inputs)        \n",
        "        loss = criterion(outputs, labels)\n",
        "        loss.backward()\n",
        "        optimizer.step()\n",
        "\n",
        "        # print statistics\n",
        "        running_loss += loss.item()\n",
        "\n",
        "    print('Epoch [{}/2], Loss: {:.4f}'.format(epoch + 1, running_loss / len(trainloader)))\n",
        "    epochs5 = epoch + 1\n",
        "\n",
        "\n",
        "print('Finished Training')\n",
        "\n",
        "\n",
        "# Evaluate the model on the test set\n",
        "with torch.no_grad():\n",
        "    correct = 0\n",
        "    total = 0\n",
        "    for data, target in testloader:\n",
        "        output = model(data)\n",
        "        _, predicted = torch.max(output.data, 1)\n",
        "        total += target.size(0)\n",
        "        correct += (predicted == target).sum().item()\n",
        "\n",
        "    accuracy = 100 * correct / total\n",
        "    print('Accuracy of the network on the test set: {:.2f}%'.format(accuracy))\n",
        "    acc5 = []\n"
      ],
      "metadata": {
        "colab": {
          "base_uri": "https://localhost:8080/"
        },
        "id": "CaxMnldUdrCK",
        "outputId": "d614a9c2-61d5-494f-c97d-141cc1b4da58"
      },
      "execution_count": 19,
      "outputs": [
        {
          "output_type": "stream",
          "name": "stdout",
          "text": [
            "Files already downloaded and verified\n",
            "Files already downloaded and verified\n",
            "Epoch [1/2], Loss: 3.8214\n",
            "Epoch [2/2], Loss: 1.8854\n",
            "Finished Training\n",
            "Accuracy of the network on the test set: 33.52%\n"
          ]
        }
      ]
    },
    {
      "cell_type": "code",
      "source": [
        "# Plot the accuracy\n",
        "plt.plot(epochs1, acc1, label='Model 1')\n",
        "plt.plot(epochs2, acc2, label='Model 2')\n",
        "plt.plot(epochs3, acc3, label='Model 3')\n",
        "plt.plot(epochs4, acc4, label='Model 4')\n",
        "plt.plot(epochs5, acc5, label='Model 5')\n",
        "\n",
        "# Add labels and legend\n",
        "plt.xlabel('Epoch')\n",
        "plt.ylabel('Accuracy')\n",
        "plt.legend()\n",
        "\n",
        "# Show the plot\n",
        "plt.show()"
      ],
      "metadata": {
        "id": "adxzK9eLhsxj"
      },
      "execution_count": null,
      "outputs": []
    },
    {
      "cell_type": "code",
      "source": [],
      "metadata": {
        "id": "QsZocUpRo8Ij"
      },
      "execution_count": null,
      "outputs": []
    }
  ]
}