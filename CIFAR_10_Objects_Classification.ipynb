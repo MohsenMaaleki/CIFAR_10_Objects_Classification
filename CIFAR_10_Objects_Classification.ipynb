{
  "nbformat": 4,
  "nbformat_minor": 0,
  "metadata": {
    "colab": {
      "provenance": [],
      "authorship_tag": "ABX9TyNHJnBjoF07dlpXSLumBVuF"
    },
    "kernelspec": {
      "name": "python3",
      "display_name": "Python 3"
    },
    "language_info": {
      "name": "python"
    },
    "accelerator": "GPU",
    "gpuClass": "standard"
  },
  "cells": [
    {
      "cell_type": "code",
      "source": [
        "import torch\n",
        "import torchvision\n",
        "import torchvision.transforms as transforms"
      ],
      "metadata": {
        "id": "jLwp2XoOT81H"
      },
      "execution_count": 15,
      "outputs": []
    },
    {
      "cell_type": "code",
      "source": [
        "# Load the pre-trained ResNet18 model\n",
        "model = torchvision.models.resnet18(pretrained=True)\n",
        "\n",
        "# Freeze all layers in the feature extractor\n",
        "for param in model.parameters():\n",
        "    param.requires_grad = False\n",
        "\n",
        "# Replace the last layer with a fully connected layer for 10 classes\n",
        "model.fc = torch.nn.Linear(512, 10)\n",
        "\n",
        "# Define the loss function and optimizer\n",
        "criterion = torch.nn.CrossEntropyLoss()\n",
        "optimizer = torch.optim.SGD(model.fc.parameters(), lr=0.001, momentum=0.9)"
      ],
      "metadata": {
        "id": "-YJdKMiaW2A3"
      },
      "execution_count": 16,
      "outputs": []
    },
    {
      "cell_type": "code",
      "source": [
        "# Load the CIFAR-10 dataset and perform data augmentation\n",
        "transform = transforms.Compose([\n",
        "    transforms.RandomHorizontalFlip(),\n",
        "    transforms.RandomCrop(32, padding=4),\n",
        "    transforms.ToTensor(),\n",
        "    transforms.Normalize((0.5, 0.5, 0.5), (0.5, 0.5, 0.5))\n",
        "])\n",
        "\n",
        "trainset = torchvision.datasets.CIFAR10(root='./data', train=True, download=True, transform=transform)\n",
        "trainloader = torch.utils.data.DataLoader(trainset, batch_size=64, shuffle=True, num_workers=2)\n",
        "\n",
        "testset = torchvision.datasets.CIFAR10(root='./data', train=False, download=True, transform=transform)\n",
        "testloader = torch.utils.data.DataLoader(testset, batch_size=64, shuffle=False, num_workers=2)"
      ],
      "metadata": {
        "colab": {
          "base_uri": "https://localhost:8080/"
        },
        "id": "KzhZHrTDbRRT",
        "outputId": "dc7f94ce-0e6b-49d3-b333-f5c730b368cb"
      },
      "execution_count": 19,
      "outputs": [
        {
          "output_type": "stream",
          "name": "stdout",
          "text": [
            "Files already downloaded and verified\n",
            "Files already downloaded and verified\n"
          ]
        }
      ]
    },
    {
      "cell_type": "code",
      "source": [
        "# Train the model on the CIFAR-10 dataset\n",
        "for epoch in range(10):  # Loop through 10 epochs\n",
        "\n",
        "    running_loss = 0.0\n",
        "    for i, data in enumerate(trainloader, 0):  # Loop through the data in the training set\n",
        "        inputs, labels = data  # Get the inputs and labels from the data\n",
        "\n",
        "        optimizer.zero_grad()  # Zero the gradient buffers\n",
        "\n",
        "        outputs = model(inputs)  # Get the model outputs\n",
        "        loss = criterion(outputs, labels)  # Calculate the loss\n",
        "        loss.backward()  # Perform backpropagation\n",
        "        optimizer.step()  # Update the parameters of the model\n",
        "\n",
        "        running_loss += loss.item()  # Add up the loss for each iteration\n",
        "\n",
        "    avg_loss = running_loss / len(trainloader)  # Calculate the average loss for each epoch\n",
        "    print('[Epoch %d] loss: %.3f' % (epoch + 1, avg_loss))  # Print the average loss for each epoch\n"
      ],
      "metadata": {
        "colab": {
          "base_uri": "https://localhost:8080/"
        },
        "id": "_LycxMnXbWFD",
        "outputId": "59cd4d2b-4f29-4ce0-ce0c-afad3e64d595"
      },
      "execution_count": null,
      "outputs": [
        {
          "output_type": "stream",
          "name": "stdout",
          "text": [
            "[Epoch 1] loss: 1.676\n",
            "[Epoch 2] loss: 1.670\n",
            "[Epoch 3] loss: 1.675\n",
            "[Epoch 4] loss: 1.680\n",
            "[Epoch 5] loss: 1.676\n"
          ]
        }
      ]
    }
  ]
}